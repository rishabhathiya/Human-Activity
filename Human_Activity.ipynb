{
 "cells": [
  {
   "cell_type": "markdown",
   "metadata": {},
   "source": [
    "# Human Activity Recognition"
   ]
  },
  {
   "cell_type": "code",
   "execution_count": 1,
   "metadata": {},
   "outputs": [],
   "source": [
    "# import the standard libraries\n",
    "import pandas as pd #Data processing and I/O operation\n",
    "import numpy as np #Linear Algebra\n",
    "import matplotlib.pyplot as plt\n",
    "\n",
    "%matplotlib inline\n",
    "\n",
    "#Import the machine libraries\n",
    "from sklearn.utils import shuffle\n",
    "from sklearn.neighbors import KNeighborsClassifier\n",
    "from sklearn.metrics import accuracy_score, confusion_matrix, classification_report"
   ]
  },
  {
   "cell_type": "markdown",
   "metadata": {},
   "source": [
    "### Import the Dataset"
   ]
  },
  {
   "cell_type": "code",
   "execution_count": 8,
   "metadata": {},
   "outputs": [],
   "source": [
    "train = shuffle(pd.read_csv(r\"C:\\Users\\Wolf\\Downloads\\Case Studies-20201127T143951Z-001\\Case Studies\\Additional Solved Projects\\Human behaviour project\\train.csv\"))\n",
    "test = shuffle(pd.read_csv(r\"C:\\Users\\Wolf\\Downloads\\Case Studies-20201127T143951Z-001\\Case Studies\\Additional Solved Projects\\Human behaviour project\\test.csv\"))"
   ]
  },
  {
   "cell_type": "code",
   "execution_count": 9,
   "metadata": {},
   "outputs": [
    {
     "data": {
      "text/html": [
       "<div>\n",
       "<style scoped>\n",
       "    .dataframe tbody tr th:only-of-type {\n",
       "        vertical-align: middle;\n",
       "    }\n",
       "\n",
       "    .dataframe tbody tr th {\n",
       "        vertical-align: top;\n",
       "    }\n",
       "\n",
       "    .dataframe thead th {\n",
       "        text-align: right;\n",
       "    }\n",
       "</style>\n",
       "<table border=\"1\" class=\"dataframe\">\n",
       "  <thead>\n",
       "    <tr style=\"text-align: right;\">\n",
       "      <th></th>\n",
       "      <th>tBodyAcc-mean()-X</th>\n",
       "      <th>tBodyAcc-mean()-Y</th>\n",
       "      <th>tBodyAcc-mean()-Z</th>\n",
       "      <th>tBodyAcc-std()-X</th>\n",
       "      <th>tBodyAcc-std()-Y</th>\n",
       "      <th>tBodyAcc-std()-Z</th>\n",
       "      <th>tBodyAcc-mad()-X</th>\n",
       "      <th>tBodyAcc-mad()-Y</th>\n",
       "      <th>tBodyAcc-mad()-Z</th>\n",
       "      <th>tBodyAcc-max()-X</th>\n",
       "      <th>...</th>\n",
       "      <th>fBodyBodyGyroJerkMag-kurtosis()</th>\n",
       "      <th>angle(tBodyAccMean,gravity)</th>\n",
       "      <th>angle(tBodyAccJerkMean),gravityMean)</th>\n",
       "      <th>angle(tBodyGyroMean,gravityMean)</th>\n",
       "      <th>angle(tBodyGyroJerkMean,gravityMean)</th>\n",
       "      <th>angle(X,gravityMean)</th>\n",
       "      <th>angle(Y,gravityMean)</th>\n",
       "      <th>angle(Z,gravityMean)</th>\n",
       "      <th>subject</th>\n",
       "      <th>Activity</th>\n",
       "    </tr>\n",
       "  </thead>\n",
       "  <tbody>\n",
       "    <tr>\n",
       "      <th>6521</th>\n",
       "      <td>0.281759</td>\n",
       "      <td>-0.017048</td>\n",
       "      <td>-0.106492</td>\n",
       "      <td>-0.981447</td>\n",
       "      <td>-0.956505</td>\n",
       "      <td>-0.957773</td>\n",
       "      <td>-0.982940</td>\n",
       "      <td>-0.952128</td>\n",
       "      <td>-0.963739</td>\n",
       "      <td>-0.918426</td>\n",
       "      <td>...</td>\n",
       "      <td>-0.331197</td>\n",
       "      <td>0.499096</td>\n",
       "      <td>-0.310336</td>\n",
       "      <td>0.599864</td>\n",
       "      <td>-0.797225</td>\n",
       "      <td>0.757552</td>\n",
       "      <td>0.215810</td>\n",
       "      <td>0.990177</td>\n",
       "      <td>28</td>\n",
       "      <td>LAYING</td>\n",
       "    </tr>\n",
       "    <tr>\n",
       "      <th>5475</th>\n",
       "      <td>0.272093</td>\n",
       "      <td>-0.024769</td>\n",
       "      <td>-0.088610</td>\n",
       "      <td>-0.950890</td>\n",
       "      <td>-0.891110</td>\n",
       "      <td>-0.875111</td>\n",
       "      <td>-0.965547</td>\n",
       "      <td>-0.888785</td>\n",
       "      <td>-0.859805</td>\n",
       "      <td>-0.850949</td>\n",
       "      <td>...</td>\n",
       "      <td>-0.627736</td>\n",
       "      <td>-0.011184</td>\n",
       "      <td>-0.317673</td>\n",
       "      <td>-0.565475</td>\n",
       "      <td>0.705020</td>\n",
       "      <td>-0.824616</td>\n",
       "      <td>0.146173</td>\n",
       "      <td>-0.098958</td>\n",
       "      <td>26</td>\n",
       "      <td>STANDING</td>\n",
       "    </tr>\n",
       "    <tr>\n",
       "      <th>1149</th>\n",
       "      <td>0.323698</td>\n",
       "      <td>-0.039466</td>\n",
       "      <td>-0.104092</td>\n",
       "      <td>-0.090252</td>\n",
       "      <td>0.100840</td>\n",
       "      <td>-0.437074</td>\n",
       "      <td>-0.126709</td>\n",
       "      <td>0.029348</td>\n",
       "      <td>-0.413807</td>\n",
       "      <td>0.149050</td>\n",
       "      <td>...</td>\n",
       "      <td>-0.785596</td>\n",
       "      <td>-0.624055</td>\n",
       "      <td>-0.749893</td>\n",
       "      <td>-0.975895</td>\n",
       "      <td>-0.720731</td>\n",
       "      <td>-0.680649</td>\n",
       "      <td>0.316962</td>\n",
       "      <td>0.046287</td>\n",
       "      <td>6</td>\n",
       "      <td>WALKING_UPSTAIRS</td>\n",
       "    </tr>\n",
       "    <tr>\n",
       "      <th>6433</th>\n",
       "      <td>0.205822</td>\n",
       "      <td>-0.054516</td>\n",
       "      <td>-0.133949</td>\n",
       "      <td>-0.321272</td>\n",
       "      <td>-0.334716</td>\n",
       "      <td>-0.263363</td>\n",
       "      <td>-0.387430</td>\n",
       "      <td>-0.408525</td>\n",
       "      <td>-0.347563</td>\n",
       "      <td>-0.112719</td>\n",
       "      <td>...</td>\n",
       "      <td>-0.621791</td>\n",
       "      <td>0.147064</td>\n",
       "      <td>0.219786</td>\n",
       "      <td>0.880636</td>\n",
       "      <td>-0.842844</td>\n",
       "      <td>-0.596630</td>\n",
       "      <td>0.308331</td>\n",
       "      <td>0.202689</td>\n",
       "      <td>28</td>\n",
       "      <td>WALKING_UPSTAIRS</td>\n",
       "    </tr>\n",
       "    <tr>\n",
       "      <th>1441</th>\n",
       "      <td>0.367262</td>\n",
       "      <td>-0.041283</td>\n",
       "      <td>-0.110820</td>\n",
       "      <td>0.266781</td>\n",
       "      <td>-0.094459</td>\n",
       "      <td>0.253409</td>\n",
       "      <td>0.191949</td>\n",
       "      <td>-0.072940</td>\n",
       "      <td>0.280505</td>\n",
       "      <td>0.624140</td>\n",
       "      <td>...</td>\n",
       "      <td>-0.808814</td>\n",
       "      <td>-0.646991</td>\n",
       "      <td>-0.735035</td>\n",
       "      <td>-0.854055</td>\n",
       "      <td>-0.886867</td>\n",
       "      <td>-0.695491</td>\n",
       "      <td>0.163304</td>\n",
       "      <td>0.226496</td>\n",
       "      <td>7</td>\n",
       "      <td>WALKING_DOWNSTAIRS</td>\n",
       "    </tr>\n",
       "    <tr>\n",
       "      <th>980</th>\n",
       "      <td>0.315171</td>\n",
       "      <td>-0.025933</td>\n",
       "      <td>-0.094480</td>\n",
       "      <td>-0.011488</td>\n",
       "      <td>0.352111</td>\n",
       "      <td>-0.369481</td>\n",
       "      <td>-0.081984</td>\n",
       "      <td>0.387421</td>\n",
       "      <td>-0.335811</td>\n",
       "      <td>0.181084</td>\n",
       "      <td>...</td>\n",
       "      <td>0.024813</td>\n",
       "      <td>-0.643448</td>\n",
       "      <td>0.431826</td>\n",
       "      <td>-0.640489</td>\n",
       "      <td>-0.358386</td>\n",
       "      <td>-0.692178</td>\n",
       "      <td>0.308709</td>\n",
       "      <td>0.048030</td>\n",
       "      <td>5</td>\n",
       "      <td>WALKING_UPSTAIRS</td>\n",
       "    </tr>\n",
       "    <tr>\n",
       "      <th>2392</th>\n",
       "      <td>0.268790</td>\n",
       "      <td>-0.021046</td>\n",
       "      <td>-0.119030</td>\n",
       "      <td>-0.976244</td>\n",
       "      <td>-0.929991</td>\n",
       "      <td>-0.903428</td>\n",
       "      <td>-0.979034</td>\n",
       "      <td>-0.928028</td>\n",
       "      <td>-0.905847</td>\n",
       "      <td>-0.917713</td>\n",
       "      <td>...</td>\n",
       "      <td>-0.813543</td>\n",
       "      <td>0.003006</td>\n",
       "      <td>-0.425293</td>\n",
       "      <td>0.266214</td>\n",
       "      <td>0.584141</td>\n",
       "      <td>-0.573495</td>\n",
       "      <td>0.260860</td>\n",
       "      <td>0.269162</td>\n",
       "      <td>14</td>\n",
       "      <td>STANDING</td>\n",
       "    </tr>\n",
       "    <tr>\n",
       "      <th>4</th>\n",
       "      <td>0.276629</td>\n",
       "      <td>-0.016570</td>\n",
       "      <td>-0.115362</td>\n",
       "      <td>-0.998139</td>\n",
       "      <td>-0.980817</td>\n",
       "      <td>-0.990482</td>\n",
       "      <td>-0.998321</td>\n",
       "      <td>-0.979672</td>\n",
       "      <td>-0.990441</td>\n",
       "      <td>-0.942469</td>\n",
       "      <td>...</td>\n",
       "      <td>-0.699205</td>\n",
       "      <td>0.123320</td>\n",
       "      <td>0.122542</td>\n",
       "      <td>0.693578</td>\n",
       "      <td>-0.615971</td>\n",
       "      <td>-0.847865</td>\n",
       "      <td>0.185151</td>\n",
       "      <td>-0.043892</td>\n",
       "      <td>1</td>\n",
       "      <td>STANDING</td>\n",
       "    </tr>\n",
       "    <tr>\n",
       "      <th>809</th>\n",
       "      <td>0.350305</td>\n",
       "      <td>-0.050405</td>\n",
       "      <td>-0.137921</td>\n",
       "      <td>0.090909</td>\n",
       "      <td>0.032110</td>\n",
       "      <td>-0.275826</td>\n",
       "      <td>0.036947</td>\n",
       "      <td>-0.046338</td>\n",
       "      <td>-0.216245</td>\n",
       "      <td>0.500089</td>\n",
       "      <td>...</td>\n",
       "      <td>-0.592205</td>\n",
       "      <td>-0.391327</td>\n",
       "      <td>-0.378072</td>\n",
       "      <td>0.951982</td>\n",
       "      <td>-0.839683</td>\n",
       "      <td>-0.967516</td>\n",
       "      <td>0.091258</td>\n",
       "      <td>-0.007051</td>\n",
       "      <td>5</td>\n",
       "      <td>WALKING_DOWNSTAIRS</td>\n",
       "    </tr>\n",
       "    <tr>\n",
       "      <th>1230</th>\n",
       "      <td>0.292104</td>\n",
       "      <td>-0.017130</td>\n",
       "      <td>-0.136755</td>\n",
       "      <td>-0.987469</td>\n",
       "      <td>-0.981470</td>\n",
       "      <td>-0.963488</td>\n",
       "      <td>-0.989754</td>\n",
       "      <td>-0.982489</td>\n",
       "      <td>-0.963481</td>\n",
       "      <td>-0.922877</td>\n",
       "      <td>...</td>\n",
       "      <td>-0.447556</td>\n",
       "      <td>0.063831</td>\n",
       "      <td>0.437027</td>\n",
       "      <td>0.393969</td>\n",
       "      <td>-0.703441</td>\n",
       "      <td>0.601924</td>\n",
       "      <td>-0.940447</td>\n",
       "      <td>-0.048973</td>\n",
       "      <td>6</td>\n",
       "      <td>LAYING</td>\n",
       "    </tr>\n",
       "  </tbody>\n",
       "</table>\n",
       "<p>10 rows × 563 columns</p>\n",
       "</div>"
      ],
      "text/plain": [
       "      tBodyAcc-mean()-X  tBodyAcc-mean()-Y  tBodyAcc-mean()-Z  \\\n",
       "6521           0.281759          -0.017048          -0.106492   \n",
       "5475           0.272093          -0.024769          -0.088610   \n",
       "1149           0.323698          -0.039466          -0.104092   \n",
       "6433           0.205822          -0.054516          -0.133949   \n",
       "1441           0.367262          -0.041283          -0.110820   \n",
       "980            0.315171          -0.025933          -0.094480   \n",
       "2392           0.268790          -0.021046          -0.119030   \n",
       "4              0.276629          -0.016570          -0.115362   \n",
       "809            0.350305          -0.050405          -0.137921   \n",
       "1230           0.292104          -0.017130          -0.136755   \n",
       "\n",
       "      tBodyAcc-std()-X  tBodyAcc-std()-Y  tBodyAcc-std()-Z  tBodyAcc-mad()-X  \\\n",
       "6521         -0.981447         -0.956505         -0.957773         -0.982940   \n",
       "5475         -0.950890         -0.891110         -0.875111         -0.965547   \n",
       "1149         -0.090252          0.100840         -0.437074         -0.126709   \n",
       "6433         -0.321272         -0.334716         -0.263363         -0.387430   \n",
       "1441          0.266781         -0.094459          0.253409          0.191949   \n",
       "980          -0.011488          0.352111         -0.369481         -0.081984   \n",
       "2392         -0.976244         -0.929991         -0.903428         -0.979034   \n",
       "4            -0.998139         -0.980817         -0.990482         -0.998321   \n",
       "809           0.090909          0.032110         -0.275826          0.036947   \n",
       "1230         -0.987469         -0.981470         -0.963488         -0.989754   \n",
       "\n",
       "      tBodyAcc-mad()-Y  tBodyAcc-mad()-Z  tBodyAcc-max()-X  ...  \\\n",
       "6521         -0.952128         -0.963739         -0.918426  ...   \n",
       "5475         -0.888785         -0.859805         -0.850949  ...   \n",
       "1149          0.029348         -0.413807          0.149050  ...   \n",
       "6433         -0.408525         -0.347563         -0.112719  ...   \n",
       "1441         -0.072940          0.280505          0.624140  ...   \n",
       "980           0.387421         -0.335811          0.181084  ...   \n",
       "2392         -0.928028         -0.905847         -0.917713  ...   \n",
       "4            -0.979672         -0.990441         -0.942469  ...   \n",
       "809          -0.046338         -0.216245          0.500089  ...   \n",
       "1230         -0.982489         -0.963481         -0.922877  ...   \n",
       "\n",
       "      fBodyBodyGyroJerkMag-kurtosis()  angle(tBodyAccMean,gravity)  \\\n",
       "6521                        -0.331197                     0.499096   \n",
       "5475                        -0.627736                    -0.011184   \n",
       "1149                        -0.785596                    -0.624055   \n",
       "6433                        -0.621791                     0.147064   \n",
       "1441                        -0.808814                    -0.646991   \n",
       "980                          0.024813                    -0.643448   \n",
       "2392                        -0.813543                     0.003006   \n",
       "4                           -0.699205                     0.123320   \n",
       "809                         -0.592205                    -0.391327   \n",
       "1230                        -0.447556                     0.063831   \n",
       "\n",
       "      angle(tBodyAccJerkMean),gravityMean)  angle(tBodyGyroMean,gravityMean)  \\\n",
       "6521                             -0.310336                          0.599864   \n",
       "5475                             -0.317673                         -0.565475   \n",
       "1149                             -0.749893                         -0.975895   \n",
       "6433                              0.219786                          0.880636   \n",
       "1441                             -0.735035                         -0.854055   \n",
       "980                               0.431826                         -0.640489   \n",
       "2392                             -0.425293                          0.266214   \n",
       "4                                 0.122542                          0.693578   \n",
       "809                              -0.378072                          0.951982   \n",
       "1230                              0.437027                          0.393969   \n",
       "\n",
       "      angle(tBodyGyroJerkMean,gravityMean)  angle(X,gravityMean)  \\\n",
       "6521                             -0.797225              0.757552   \n",
       "5475                              0.705020             -0.824616   \n",
       "1149                             -0.720731             -0.680649   \n",
       "6433                             -0.842844             -0.596630   \n",
       "1441                             -0.886867             -0.695491   \n",
       "980                              -0.358386             -0.692178   \n",
       "2392                              0.584141             -0.573495   \n",
       "4                                -0.615971             -0.847865   \n",
       "809                              -0.839683             -0.967516   \n",
       "1230                             -0.703441              0.601924   \n",
       "\n",
       "      angle(Y,gravityMean)  angle(Z,gravityMean)  subject            Activity  \n",
       "6521              0.215810              0.990177       28              LAYING  \n",
       "5475              0.146173             -0.098958       26            STANDING  \n",
       "1149              0.316962              0.046287        6    WALKING_UPSTAIRS  \n",
       "6433              0.308331              0.202689       28    WALKING_UPSTAIRS  \n",
       "1441              0.163304              0.226496        7  WALKING_DOWNSTAIRS  \n",
       "980               0.308709              0.048030        5    WALKING_UPSTAIRS  \n",
       "2392              0.260860              0.269162       14            STANDING  \n",
       "4                 0.185151             -0.043892        1            STANDING  \n",
       "809               0.091258             -0.007051        5  WALKING_DOWNSTAIRS  \n",
       "1230             -0.940447             -0.048973        6              LAYING  \n",
       "\n",
       "[10 rows x 563 columns]"
      ]
     },
     "execution_count": 9,
     "metadata": {},
     "output_type": "execute_result"
    }
   ],
   "source": [
    "train.head(10)"
   ]
  },
  {
   "cell_type": "code",
   "execution_count": 10,
   "metadata": {},
   "outputs": [
    {
     "data": {
      "text/html": [
       "<div>\n",
       "<style scoped>\n",
       "    .dataframe tbody tr th:only-of-type {\n",
       "        vertical-align: middle;\n",
       "    }\n",
       "\n",
       "    .dataframe tbody tr th {\n",
       "        vertical-align: top;\n",
       "    }\n",
       "\n",
       "    .dataframe thead th {\n",
       "        text-align: right;\n",
       "    }\n",
       "</style>\n",
       "<table border=\"1\" class=\"dataframe\">\n",
       "  <thead>\n",
       "    <tr style=\"text-align: right;\">\n",
       "      <th></th>\n",
       "      <th>tBodyAcc-mean()-X</th>\n",
       "      <th>tBodyAcc-mean()-Y</th>\n",
       "      <th>tBodyAcc-mean()-Z</th>\n",
       "      <th>tBodyAcc-std()-X</th>\n",
       "      <th>tBodyAcc-std()-Y</th>\n",
       "      <th>tBodyAcc-std()-Z</th>\n",
       "      <th>tBodyAcc-mad()-X</th>\n",
       "      <th>tBodyAcc-mad()-Y</th>\n",
       "      <th>tBodyAcc-mad()-Z</th>\n",
       "      <th>tBodyAcc-max()-X</th>\n",
       "      <th>...</th>\n",
       "      <th>fBodyBodyGyroJerkMag-kurtosis()</th>\n",
       "      <th>angle(tBodyAccMean,gravity)</th>\n",
       "      <th>angle(tBodyAccJerkMean),gravityMean)</th>\n",
       "      <th>angle(tBodyGyroMean,gravityMean)</th>\n",
       "      <th>angle(tBodyGyroJerkMean,gravityMean)</th>\n",
       "      <th>angle(X,gravityMean)</th>\n",
       "      <th>angle(Y,gravityMean)</th>\n",
       "      <th>angle(Z,gravityMean)</th>\n",
       "      <th>subject</th>\n",
       "      <th>Activity</th>\n",
       "    </tr>\n",
       "  </thead>\n",
       "  <tbody>\n",
       "    <tr>\n",
       "      <th>6642</th>\n",
       "      <td>0.282672</td>\n",
       "      <td>-0.058369</td>\n",
       "      <td>-0.166825</td>\n",
       "      <td>-0.98044</td>\n",
       "      <td>-0.848483</td>\n",
       "      <td>-0.898052</td>\n",
       "      <td>-0.986289</td>\n",
       "      <td>-0.829429</td>\n",
       "      <td>-0.882769</td>\n",
       "      <td>-0.900349</td>\n",
       "      <td>...</td>\n",
       "      <td>0.237683</td>\n",
       "      <td>0.014769</td>\n",
       "      <td>0.129238</td>\n",
       "      <td>-0.35242</td>\n",
       "      <td>-0.022525</td>\n",
       "      <td>-0.943854</td>\n",
       "      <td>0.084822</td>\n",
       "      <td>-0.022861</td>\n",
       "      <td>29</td>\n",
       "      <td>STANDING</td>\n",
       "    </tr>\n",
       "  </tbody>\n",
       "</table>\n",
       "<p>1 rows × 563 columns</p>\n",
       "</div>"
      ],
      "text/plain": [
       "      tBodyAcc-mean()-X  tBodyAcc-mean()-Y  tBodyAcc-mean()-Z  \\\n",
       "6642           0.282672          -0.058369          -0.166825   \n",
       "\n",
       "      tBodyAcc-std()-X  tBodyAcc-std()-Y  tBodyAcc-std()-Z  tBodyAcc-mad()-X  \\\n",
       "6642          -0.98044         -0.848483         -0.898052         -0.986289   \n",
       "\n",
       "      tBodyAcc-mad()-Y  tBodyAcc-mad()-Z  tBodyAcc-max()-X  ...  \\\n",
       "6642         -0.829429         -0.882769         -0.900349  ...   \n",
       "\n",
       "      fBodyBodyGyroJerkMag-kurtosis()  angle(tBodyAccMean,gravity)  \\\n",
       "6642                         0.237683                     0.014769   \n",
       "\n",
       "      angle(tBodyAccJerkMean),gravityMean)  angle(tBodyGyroMean,gravityMean)  \\\n",
       "6642                              0.129238                          -0.35242   \n",
       "\n",
       "      angle(tBodyGyroJerkMean,gravityMean)  angle(X,gravityMean)  \\\n",
       "6642                             -0.022525             -0.943854   \n",
       "\n",
       "      angle(Y,gravityMean)  angle(Z,gravityMean)  subject  Activity  \n",
       "6642              0.084822             -0.022861       29  STANDING  \n",
       "\n",
       "[1 rows x 563 columns]"
      ]
     },
     "execution_count": 10,
     "metadata": {},
     "output_type": "execute_result"
    }
   ],
   "source": [
    "train.tail(1)"
   ]
  },
  {
   "cell_type": "code",
   "execution_count": 11,
   "metadata": {},
   "outputs": [
    {
     "data": {
      "text/plain": [
       "(7352, 563)"
      ]
     },
     "execution_count": 11,
     "metadata": {},
     "output_type": "execute_result"
    }
   ],
   "source": [
    "train.shape"
   ]
  },
  {
   "cell_type": "code",
   "execution_count": 12,
   "metadata": {},
   "outputs": [
    {
     "data": {
      "text/plain": [
       "(2947, 563)"
      ]
     },
     "execution_count": 12,
     "metadata": {},
     "output_type": "execute_result"
    }
   ],
   "source": [
    "test.shape"
   ]
  },
  {
   "cell_type": "markdown",
   "metadata": {},
   "source": [
    "### Check for missing values"
   ]
  },
  {
   "cell_type": "code",
   "execution_count": 13,
   "metadata": {},
   "outputs": [
    {
     "name": "stdout",
     "output_type": "stream",
     "text": [
      "Any missing value in training set: False\n",
      "Any missing value in training set: False\n"
     ]
    }
   ],
   "source": [
    "print('Any missing value in training set:', train.isnull().values.any())\n",
    "print('Any missing value in training set:', test.isnull().values.any())"
   ]
  },
  {
   "cell_type": "markdown",
   "metadata": {},
   "source": [
    "### Exploring the Dataset"
   ]
  },
  {
   "cell_type": "code",
   "execution_count": 14,
   "metadata": {},
   "outputs": [
    {
     "data": {
      "text/html": [
       "<div>\n",
       "<style scoped>\n",
       "    .dataframe tbody tr th:only-of-type {\n",
       "        vertical-align: middle;\n",
       "    }\n",
       "\n",
       "    .dataframe tbody tr th {\n",
       "        vertical-align: top;\n",
       "    }\n",
       "\n",
       "    .dataframe thead th {\n",
       "        text-align: right;\n",
       "    }\n",
       "</style>\n",
       "<table border=\"1\" class=\"dataframe\">\n",
       "  <thead>\n",
       "    <tr style=\"text-align: right;\">\n",
       "      <th>col_0</th>\n",
       "      <th>Count</th>\n",
       "    </tr>\n",
       "    <tr>\n",
       "      <th>Activity</th>\n",
       "      <th></th>\n",
       "    </tr>\n",
       "  </thead>\n",
       "  <tbody>\n",
       "    <tr>\n",
       "      <th>LAYING</th>\n",
       "      <td>1407</td>\n",
       "    </tr>\n",
       "    <tr>\n",
       "      <th>SITTING</th>\n",
       "      <td>1286</td>\n",
       "    </tr>\n",
       "    <tr>\n",
       "      <th>STANDING</th>\n",
       "      <td>1374</td>\n",
       "    </tr>\n",
       "    <tr>\n",
       "      <th>WALKING</th>\n",
       "      <td>1226</td>\n",
       "    </tr>\n",
       "    <tr>\n",
       "      <th>WALKING_DOWNSTAIRS</th>\n",
       "      <td>986</td>\n",
       "    </tr>\n",
       "    <tr>\n",
       "      <th>WALKING_UPSTAIRS</th>\n",
       "      <td>1073</td>\n",
       "    </tr>\n",
       "  </tbody>\n",
       "</table>\n",
       "</div>"
      ],
      "text/plain": [
       "col_0               Count\n",
       "Activity                 \n",
       "LAYING               1407\n",
       "SITTING              1286\n",
       "STANDING             1374\n",
       "WALKING              1226\n",
       "WALKING_DOWNSTAIRS    986\n",
       "WALKING_UPSTAIRS     1073"
      ]
     },
     "execution_count": 14,
     "metadata": {},
     "output_type": "execute_result"
    }
   ],
   "source": [
    "train_outcome = pd.crosstab(index = train['Activity'], columns='Count')\n",
    "train_outcome"
   ]
  },
  {
   "cell_type": "markdown",
   "metadata": {},
   "source": [
    "### Exploratory Data Analysis"
   ]
  },
  {
   "cell_type": "code",
   "execution_count": 15,
   "metadata": {},
   "outputs": [
    {
     "data": {
      "text/plain": [
       "LAYING                1407\n",
       "STANDING              1374\n",
       "SITTING               1286\n",
       "WALKING               1226\n",
       "WALKING_UPSTAIRS      1073\n",
       "WALKING_DOWNSTAIRS     986\n",
       "Name: Activity, dtype: int64"
      ]
     },
     "execution_count": 15,
     "metadata": {},
     "output_type": "execute_result"
    }
   ],
   "source": [
    "temp = train['Activity'].value_counts()\n",
    "temp"
   ]
  },
  {
   "cell_type": "code",
   "execution_count": 16,
   "metadata": {},
   "outputs": [],
   "source": [
    "df = pd.DataFrame({'labels':temp.index, 'values':temp.values})"
   ]
  },
  {
   "cell_type": "code",
   "execution_count": 17,
   "metadata": {},
   "outputs": [
    {
     "data": {
      "text/html": [
       "<div>\n",
       "<style scoped>\n",
       "    .dataframe tbody tr th:only-of-type {\n",
       "        vertical-align: middle;\n",
       "    }\n",
       "\n",
       "    .dataframe tbody tr th {\n",
       "        vertical-align: top;\n",
       "    }\n",
       "\n",
       "    .dataframe thead th {\n",
       "        text-align: right;\n",
       "    }\n",
       "</style>\n",
       "<table border=\"1\" class=\"dataframe\">\n",
       "  <thead>\n",
       "    <tr style=\"text-align: right;\">\n",
       "      <th></th>\n",
       "      <th>labels</th>\n",
       "      <th>values</th>\n",
       "    </tr>\n",
       "  </thead>\n",
       "  <tbody>\n",
       "    <tr>\n",
       "      <th>0</th>\n",
       "      <td>LAYING</td>\n",
       "      <td>1407</td>\n",
       "    </tr>\n",
       "    <tr>\n",
       "      <th>1</th>\n",
       "      <td>STANDING</td>\n",
       "      <td>1374</td>\n",
       "    </tr>\n",
       "  </tbody>\n",
       "</table>\n",
       "</div>"
      ],
      "text/plain": [
       "     labels  values\n",
       "0    LAYING    1407\n",
       "1  STANDING    1374"
      ]
     },
     "execution_count": 17,
     "metadata": {},
     "output_type": "execute_result"
    }
   ],
   "source": [
    "df.head(2)"
   ]
  },
  {
   "cell_type": "code",
   "execution_count": 18,
   "metadata": {},
   "outputs": [
    {
     "data": {
      "image/png": "[encoded data removed]",
      "text/plain": [
       "<Figure size 432x288 with 1 Axes>"
      ]
     },
     "metadata": {},
     "output_type": "display_data"
    }
   ],
   "source": [
    "labels=df['labels']\n",
    "sizes = df['values']\n",
    "colors = ['yellowgreen', 'lightskyblue', 'gold', 'lightpink', 'cyan', 'lightcoral']\n",
    "patches, texts = plt.pie(sizes, colors=colors, labels = labels, shadow=True, startangle=90, pctdistance=1.1, labeldistance=1.2)\n",
    "plt.legend(patches, labels, loc='right')\n",
    "plt.axis('equal')\n",
    "plt.tight_layout()\n",
    "plt.show()"
   ]
  },
  {
   "cell_type": "markdown",
   "metadata": {},
   "source": [
    "### Data Processing"
   ]
  },
  {
   "cell_type": "code",
   "execution_count": 19,
   "metadata": {},
   "outputs": [],
   "source": [
    "X_train = pd.DataFrame(train.drop(['Activity', 'subject'], axis=1))\n",
    "Y_train_label = train.Activity.values.astype(object)\n",
    "X_test = pd.DataFrame(test.drop(['Activity', 'subject'], axis=1))\n",
    "Y_test_label = test.Activity.values.astype(object)"
   ]
  },
  {
   "cell_type": "code",
   "execution_count": 20,
   "metadata": {},
   "outputs": [],
   "source": [
    "from sklearn import preprocessing\n",
    "encoder = preprocessing.LabelEncoder()\n",
    "\n",
    "encoder.fit(Y_train_label)\n",
    "y_train = encoder.transform(Y_train_label)"
   ]
  },
  {
   "cell_type": "code",
   "execution_count": 21,
   "metadata": {},
   "outputs": [
    {
     "data": {
      "text/plain": [
       "array([0, 2, 5, ..., 2, 1, 2])"
      ]
     },
     "execution_count": 21,
     "metadata": {},
     "output_type": "execute_result"
    }
   ],
   "source": [
    "y_train"
   ]
  },
  {
   "cell_type": "code",
   "execution_count": 22,
   "metadata": {},
   "outputs": [],
   "source": [
    "encoder.fit(Y_test_label)\n",
    "y_test = encoder.transform(Y_test_label)"
   ]
  },
  {
   "cell_type": "code",
   "execution_count": 23,
   "metadata": {},
   "outputs": [
    {
     "data": {
      "text/plain": [
       "array([1, 1, 4, ..., 2, 4, 4])"
      ]
     },
     "execution_count": 23,
     "metadata": {},
     "output_type": "execute_result"
    }
   ],
   "source": [
    "y_test"
   ]
  },
  {
   "cell_type": "code",
   "execution_count": 24,
   "metadata": {},
   "outputs": [
    {
     "data": {
      "text/plain": [
       "561"
      ]
     },
     "execution_count": 24,
     "metadata": {},
     "output_type": "execute_result"
    }
   ],
   "source": [
    "num_cols = X_train._get_numeric_data().columns\n",
    "num_cols.size"
   ]
  },
  {
   "cell_type": "markdown",
   "metadata": {},
   "source": [
    "## Model Building for Human Acitivity Recognition"
   ]
  },
  {
   "cell_type": "code",
   "execution_count": 25,
   "metadata": {},
   "outputs": [],
   "source": [
    "from sklearn.preprocessing import StandardScaler\n",
    "scaler = StandardScaler()\n",
    "x_train = scaler.fit_transform(X_train)\n",
    "x_test = scaler.fit_transform(X_test)"
   ]
  },
  {
   "cell_type": "code",
   "execution_count": 26,
   "metadata": {},
   "outputs": [
    {
     "data": {
      "text/plain": [
       "KNeighborsClassifier(n_neighbors=24)"
      ]
     },
     "execution_count": 26,
     "metadata": {},
     "output_type": "execute_result"
    }
   ],
   "source": [
    "knn = KNeighborsClassifier(n_neighbors=24)\n",
    "knn.fit(x_train,y_train)"
   ]
  },
  {
   "cell_type": "code",
   "execution_count": null,
   "metadata": {},
   "outputs": [],
   "source": [
    "y_pred = knn.predict(x_test)"
   ]
  },
  {
   "cell_type": "code",
   "execution_count": null,
   "metadata": {},
   "outputs": [],
   "source": [
    "print((accuracy_score(y_test, y_pred)*100), '%')"
   ]
  },
  {
   "cell_type": "code",
   "execution_count": null,
   "metadata": {},
   "outputs": [],
   "source": [
    "scores = []\n",
    "for i in range(1,50):\n",
    "    knn=KNeighborsClassifier(n_neighbors=i, n_jobs=-1)\n",
    "    knn.fit(x_train, y_train)\n",
    "    y_pred = knn.predict(x_test)\n",
    "    scores.append(accuracy_score(y_test, y_pred))"
   ]
  },
  {
   "cell_type": "code",
   "execution_count": null,
   "metadata": {},
   "outputs": [],
   "source": [
    "plt.xlabel('Number of Neighbors')\n",
    "plt.ylabel('Accuracy Score')\n",
    "xticks = range(1,50)\n",
    "plt.plot(xticks, scores, color='red', linestyle='solid', marker='o', \n",
    "        markersize=5, markerfacecolor='blue')\n",
    "plt.show()"
   ]
  },
  {
   "cell_type": "code",
   "execution_count": null,
   "metadata": {},
   "outputs": [],
   "source": [
    "scores = np.array(scores)\n",
    "print('Optimal number of neighbors is:', scores.argmax())\n",
    "print('Accuracy Score:' +str(scores.max()*100),'%')"
   ]
  },
  {
   "cell_type": "markdown",
   "metadata": {},
   "source": [
    "### Conclusion"
   ]
  },
  {
   "cell_type": "code",
   "execution_count": null,
   "metadata": {},
   "outputs": [],
   "source": [
    "knn = KNeighborsClassifier(n_neighbors=19)\n",
    "knn.fit(x_train, y_train)\n",
    "y_pred = knn.predict(x_test)\n",
    "y_pred_label = list(encoder.inverse_transform(y_pred))"
   ]
  },
  {
   "cell_type": "code",
   "execution_count": null,
   "metadata": {},
   "outputs": [],
   "source": [
    "y_pred_label"
   ]
  },
  {
   "cell_type": "code",
   "execution_count": null,
   "metadata": {},
   "outputs": [],
   "source": [
    "print(confusion_matrix(Y_test_label, y_pred_label))"
   ]
  },
  {
   "cell_type": "code",
   "execution_count": null,
   "metadata": {},
   "outputs": [],
   "source": [
    "print(classification_report(Y_test_label, y_pred_label))"
   ]
  },
  {
   "cell_type": "code",
   "execution_count": null,
   "metadata": {},
   "outputs": [],
   "source": []
  },
  {
   "cell_type": "code",
   "execution_count": null,
   "metadata": {},
   "outputs": [],
   "source": []
  }
 ],
 "metadata": {
  "kernelspec": {
   "display_name": "Python 3",
   "language": "python",
   "name": "python3"
  },
  "language_info": {
   "codemirror_mode": {
    "name": "ipython",
    "version": 3
   },
   "file_extension": ".py",
   "mimetype": "text/x-python",
   "name": "python",
   "nbconvert_exporter": "python",
   "pygments_lexer": "ipython3",
   "version": "3.8.3"
  }
 },
 "nbformat": 4,
 "nbformat_minor": 4
}
